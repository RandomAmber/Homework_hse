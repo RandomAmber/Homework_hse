{
 "cells": [
  {
   "cell_type": "code",
   "execution_count": 1,
   "metadata": {},
   "outputs": [],
   "source": [
    "import re"
   ]
  },
  {
   "cell_type": "code",
   "execution_count": 2,
   "metadata": {},
   "outputs": [],
   "source": [
    "def get_text(path):\n",
    "    with open(path, \"r\", encoding = \"utf-8\") as file:\n",
    "        text = \"\".join(file.readlines())\n",
    "    return text\n",
    "        \n",
    "\n",
    "def write_processed_text(path, text):\n",
    "    with open(path, \"w\", encoding = \"utf-8\") as file:\n",
    "        file.write(text)"
   ]
  },
  {
   "cell_type": "code",
   "execution_count": 12,
   "metadata": {},
   "outputs": [],
   "source": [
    "def main():\n",
    "    \n",
    "    linguistics_text = get_text(\"linguistics.txt\")\n",
    "    shashlik_text = re.sub(\"язык(\\w{0,3})([^е́а-я])\", r\"шашлык\\1\\2\", linguistics_text)\n",
    "    shashlik_text = re.sub(\"Язык(\\w{0,3})(\\W)\", r\"Шашлык\\1\\2\", shashlik_text)\n",
    "    write_processed_text(\"shashlik.txt\", shashlik_text)\n",
    "    \n",
    "    finland_text = get_text(\"finland.txt\")\n",
    "    malasya_text = re.sub(\"Финл(я|я́)нди(\\w{0,2})(\\W)\", r\"Малази\\2\\3\", finland_text)\n",
    "    malasya_text = re.sub(\"ФИНЛЯНДИ(\\w{0,2})(\\W)\", r\"МАЛАЗИ\\1\\2\", malasya_text)\n",
    "    write_processed_text(\"malasya.txt\", malasya_text)\n",
    "    \n",
    "    philosophy_text = get_text(\"philosophy.txt\")\n",
    "    astrology_text = re.sub(\"философи(\\w{0,3})(\\W)\", r\"астрологи\\1\\2\", philosophy_text)\n",
    "    astrology_text = re.sub(\"Филос(о|о́)фи(\\w{0,3})(\\W)\", r\"Астрологи\\2\\3\", astrology_text)\n",
    "    astrology_text = re.sub(\"ФИЛОСОФИ(\\w{0,3})(\\W)\", r\"АСТРОЛОГИ\\1\\2\", astrology_text)\n",
    "    write_processed_text(\"astrology.txt\", astrology_text)\n",
    "    \n",
    "\n",
    "if __name__ == '__main__':\n",
    "    main()"
   ]
  }
 ],
 "metadata": {
  "kernelspec": {
   "display_name": "Python 3",
   "language": "python",
   "name": "python3"
  },
  "language_info": {
   "codemirror_mode": {
    "name": "ipython",
    "version": 3
   },
   "file_extension": ".py",
   "mimetype": "text/x-python",
   "name": "python",
   "nbconvert_exporter": "python",
   "pygments_lexer": "ipython3",
   "version": "3.6.5"
  }
 },
 "nbformat": 4,
 "nbformat_minor": 2
}
