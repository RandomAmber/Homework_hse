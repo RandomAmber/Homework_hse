{
 "cells": [
  {
   "cell_type": "code",
   "execution_count": 3,
   "metadata": {},
   "outputs": [
    {
     "name": "stdout",
     "output_type": "stream",
     "text": [
      "гдоц\n",
      "3\n",
      "капатсу\n"
     ]
    }
   ],
   "source": [
    "# 1: Спрашивает у пользователя слово (в кириллице) и выводит на экран все чётные буквы этого слова, но только если это не буква “а” или буква “к”. Например, для слова “угадайка” выведутся буквы “г”, “д”, “й”, а последняя “а” не выведется.\n",
    "\n",
    "import re\n",
    "\n",
    "word1 = input()\n",
    "word1 = re.findall(\"([а-яА-Я]+)\", word1)\n",
    "word1 = ''.join([i for i in word1 ])\n",
    "\n",
    "word1 = word1.lower()\n",
    "word1 = word1.strip()\n",
    "word1 = word1[1::2]\n",
    "word1 = word1.replace('а', \"\")\n",
    "word1 = word1.replace('к', \"\")\n",
    "print (word1)\n",
    "\n",
    "# 2. Спрашивает у пользователя число N, а затем N раз спрашивает у пользователя слово  и выводит его на экран. Если пользователь ввел слово “программирование“, программа должна завершить работу.\n",
    "\n",
    "n = int(input())\n",
    "for i in range (0, n):\n",
    "    word2 = input()\n",
    "    if word2 == \"программирование\":\n",
    "        break\n",
    "    else:\n",
    "        print(word2)\n",
    "\n",
    "\n",
    "# 3. Спрашивает у пользователя слово и выводит на экран все его буквы до середины (не включая среднюю букву, если число букв нечётно), а вторую половину (начиная со средней буквы, если число букв нечётно), выводит на экран задом наперёд.\n",
    "\n",
    "word3 = input()\n",
    "y = len(word3)\n",
    "if len(word3) % 2 == 0:\n",
    "    y = int(y/2)\n",
    "    print(y)\n",
    "    a = word3[0:y]\n",
    "    b = word3[-1:y-1:-1]\n",
    "else:\n",
    "    y = int(y/2)\n",
    "    print(y)\n",
    "    a = word3[0:y]\n",
    "    b = word3[-1:y-1:-1]\n",
    "print (a+b)"
   ]
  },
  {
   "cell_type": "code",
   "execution_count": null,
   "metadata": {},
   "outputs": [],
   "source": []
  }
 ],
 "metadata": {
  "kernelspec": {
   "display_name": "Python 3",
   "language": "python",
   "name": "python3"
  },
  "language_info": {
   "codemirror_mode": {
    "name": "ipython",
    "version": 3
   },
   "file_extension": ".py",
   "mimetype": "text/x-python",
   "name": "python",
   "nbconvert_exporter": "python",
   "pygments_lexer": "ipython3",
   "version": "3.6.5"
  }
 },
 "nbformat": 4,
 "nbformat_minor": 2
}
